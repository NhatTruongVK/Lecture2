{
  "nbformat": 4,
  "nbformat_minor": 0,
  "metadata": {
    "colab": {
      "name": "Example1_Lec2.ipynb",
      "provenance": [],
      "collapsed_sections": [],
      "include_colab_link": true
    },
    "kernelspec": {
      "name": "python3",
      "display_name": "Python 3"
    }
  },
  "cells": [
    {
      "cell_type": "markdown",
      "metadata": {
        "id": "view-in-github",
        "colab_type": "text"
      },
      "source": [
        "<a href=\"https://colab.research.google.com/github/NhatTruongVK/Lecture2/blob/master/Example1_Lec2.ipynb\" target=\"_parent\"><img src=\"https://colab.research.google.com/assets/colab-badge.svg\" alt=\"Open In Colab\"/></a>"
      ]
    },
    {
      "cell_type": "code",
      "metadata": {
        "colab_type": "code",
        "id": "DGdXFXdBN6BQ",
        "colab": {}
      },
      "source": [
        "# Thư viện cơ bản\n",
        "\n",
        "import numpy as np \n",
        "import matplotlib.pyplot as plt\n"
      ],
      "execution_count": null,
      "outputs": []
    },
    {
      "cell_type": "code",
      "metadata": {
        "colab_type": "code",
        "id": "4No-SyJDOZQ7",
        "colab": {}
      },
      "source": [
        "# Khai báo dữ liệu dùng để đào tạo mô hình (training data)\n",
        "\n",
        "x = np.array([[147, 150, 153, 158, 163, 165, 168, 170, 173, 175, 178, 180, 183]]).T\n",
        "y = np.array([[ 49, 50, 51,  54, 58, 59, 60, 62, 63, 64, 66, 67, 68]]).T\n",
        "\n"
      ],
      "execution_count": null,
      "outputs": []
    },
    {
      "cell_type": "code",
      "metadata": {
        "colab_type": "code",
        "id": "4EHSUHJuOv3R",
        "colab": {
          "base_uri": "https://localhost:8080/",
          "height": 283
        },
        "outputId": "9cfd6a68-89c7-4ad7-b2b2-7469b1d9793b"
      },
      "source": [
        "# Biểu diễn dữ liệu (training data)\n",
        "\n",
        "plt.plot(x, y, 'go')\n",
        "plt.axis([140, 190, 45, 80])\n",
        "plt.xlabel('Chieu cao (cm)')\n",
        "plt.ylabel('Can nang (kg)')\n",
        "plt.show()\n"
      ],
      "execution_count": null,
      "outputs": [
        {
          "output_type": "display_data",
          "data": {
            "image/png": "[encoded data removed]",
            "text/plain": [
              "<Figure size 432x288 with 1 Axes>"
            ]
          },
          "metadata": {
            "tags": [],
            "needs_background": "light"
          }
        }
      ]
    },
    {
      "cell_type": "code",
      "metadata": {
        "id": "w47ohEiv8BUo",
        "colab_type": "code",
        "colab": {}
      },
      "source": [
        "# Xây dựng xbar \n",
        "\n",
        "one = np.ones((x.shape[0], 1))\n",
        "xbar = np.concatenate((one, x), axis = 1)\n"
      ],
      "execution_count": null,
      "outputs": []
    },
    {
      "cell_type": "code",
      "metadata": {
        "id": "Q6z-P39wHrcE",
        "colab_type": "code",
        "colab": {
          "base_uri": "https://localhost:8080/",
          "height": 35
        },
        "outputId": "3a320b6f-8883-4aab-a42f-1482a152550b"
      },
      "source": [
        "# Thư viện sklearn\n",
        "\n",
        "from sklearn import datasets, linear_model\n",
        "from sklearn.metrics import mean_squared_error\n",
        "\n",
        "# Tạo mô hình (model) bởi Linear Regression\n",
        "regr = linear_model.LinearRegression(fit_intercept=False)\n",
        "# Đào tạo mô hình (model) sử dụng training data\n",
        "regr.fit(xbar, y)\n",
        "\n",
        "print ('Các trọng số: ', regr.coef_)\n"
      ],
      "execution_count": null,
      "outputs": [
        {
          "output_type": "stream",
          "text": [
            "Các trọng số:  [[-33.73541021   0.55920496]]\n"
          ],
          "name": "stdout"
        }
      ]
    },
    {
      "cell_type": "code",
      "metadata": {
        "colab_type": "code",
        "id": "7ADe5SulkAHX",
        "colab": {
          "base_uri": "https://localhost:8080/",
          "height": 126
        },
        "outputId": "ac6b008c-3341-4833-e532-1691cd64ce11"
      },
      "source": [
        "# Khai báo dữ liệu để kiểm tra mô hình (testing data)\n",
        "\n",
        "x_test= np.array([[155,160]]).T\n",
        "y_test=np.array([[52,56]]).T\n",
        "print(x_test)\n",
        "print(y_test)\n",
        "\n",
        "# Xây dựng x_testbar\n",
        "\n",
        "one = np.ones((x_test.shape[0], 1))\n",
        "x_testbar = np.concatenate((one, x_test), axis = 1)\n",
        "print(x_testbar)\n",
        "\n"
      ],
      "execution_count": null,
      "outputs": [
        {
          "output_type": "stream",
          "text": [
            "[[155]\n",
            " [160]]\n",
            "[[52]\n",
            " [56]]\n",
            "[[  1. 155.]\n",
            " [  1. 160.]]\n"
          ],
          "name": "stdout"
        }
      ]
    },
    {
      "cell_type": "code",
      "metadata": {
        "colab_type": "code",
        "id": "TZ6OyUuXinuA",
        "colab": {
          "base_uri": "https://localhost:8080/",
          "height": 53
        },
        "outputId": "efed662c-e661-4505-dfd1-68b91132f373"
      },
      "source": [
        "# Đưa ra dự đoán \n",
        "\n",
        "y_pred=regr.predict(x_testbar)\n",
        "print(y_pred)\n"
      ],
      "execution_count": null,
      "outputs": [
        {
          "output_type": "stream",
          "text": [
            "[[52.94135889]\n",
            " [55.7373837 ]]\n"
          ],
          "name": "stdout"
        }
      ]
    },
    {
      "cell_type": "code",
      "metadata": {
        "id": "zEIm_8Aan_8T",
        "colab_type": "code",
        "colab": {
          "base_uri": "https://localhost:8080/",
          "height": 35
        },
        "outputId": "51c9f3d3-d0ca-4a35-be4b-f9fc9901d802"
      },
      "source": [
        "# Xác định mean squared error\n",
        "\n",
        "print('Mean squared error: %.2f' % mean_squared_error(y_test, y_pred))\n"
      ],
      "execution_count": null,
      "outputs": [
        {
          "output_type": "stream",
          "text": [
            "Mean squared error: 0.48\n"
          ],
          "name": "stdout"
        }
      ]
    },
    {
      "cell_type": "code",
      "metadata": {
        "id": "3pNqKT2Crjab",
        "colab_type": "code",
        "colab": {
          "base_uri": "https://localhost:8080/",
          "height": 283
        },
        "outputId": "4546511c-d571-472c-cef6-c5848047be4c"
      },
      "source": [
        "\n",
        "# Biểu diễn fitting line\n",
        "\n",
        "plt.scatter(x, y,  color='green')\n",
        "y_pred_all=regr.predict(xbar)\n",
        "\n",
        "plt.plot(x, y_pred_all, color='blue', linewidth=3)\n"
      ],
      "execution_count": null,
      "outputs": [
        {
          "output_type": "execute_result",
          "data": {
            "text/plain": [
              "[<matplotlib.lines.Line2D at 0x7f82547d0a58>]"
            ]
          },
          "metadata": {
            "tags": []
          },
          "execution_count": 11
        },
        {
          "output_type": "display_data",
          "data": {
            "image/png": "[encoded data removed]",
            "text/plain": [
              "<Figure size 432x288 with 1 Axes>"
            ]
          },
          "metadata": {
            "tags": [],
            "needs_background": "light"
          }
        }
      ]
    }
  ]
}